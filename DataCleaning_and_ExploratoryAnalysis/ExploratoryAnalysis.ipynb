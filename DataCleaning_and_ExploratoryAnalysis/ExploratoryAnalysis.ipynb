{
 "cells": [
  {
   "cell_type": "markdown",
   "metadata": {},
   "source": [
    "Identifying Common Proteins Between the Different Datasets"
   ]
  },
  {
   "cell_type": "code",
   "execution_count": 18,
   "metadata": {},
   "outputs": [],
   "source": [
    "# Import the packages we may need\n",
    "import pandas as pd\n",
    "import matplotlib.pyplot as plt\n",
    "import numpy as np\n",
    "import seaborn as sns"
   ]
  },
  {
   "cell_type": "code",
   "execution_count": 19,
   "metadata": {},
   "outputs": [],
   "source": [
    "# Import the data\n",
    "\n",
    "Petrera_df=pd.read_excel(\"Petrera_JProteome_S2.xlsx\")\n",
    "# Petrera data set source: https://pubs.acs.org/doi/full/10.1021/acs.jproteome.0c00641?casa_token=jmZDPVZOvegAAAAA%3ARv_oH-9X2AfOxbH826lXOOUjBr8xhagsxlecoH2jrUE_aaJUsM1bINZ_g4RxtZSuMI0B1D3th1VilHUy8w\n",
    "\n",
    "Gonzalez_df=pd.read_excel(\"Gonzales_CancerRes_TableS2.xlsx\")\n",
    "# Gonzalez data set source: https://aacrjournals.org/cancerrescommun/article/4/7/1726/746418\n",
    "\n",
    "Gao_df= pd.read_excel(\"Gao_JImmunoTher_Supp.xlsx\")\n",
    "# Gao data set source: https://pmc.ncbi.nlm.nih.gov/articles/PMC10836376/\n",
    "\n",
    "Alvez_df = pd.read_excel(\"pancancer_olink_data_biostudies_v2.xlsx\")\n",
    "# Alvez data set source: https://pmc.ncbi.nlm.nih.gov/articles/PMC10354027/"
   ]
  },
  {
   "cell_type": "code",
   "execution_count": 14,
   "metadata": {},
   "outputs": [],
   "source": [
    "# Description of papers\n",
    "# Petrera measured 728 plasma proteins in 173 human plasma samples from a Southern German population-based cohort\n",
    "# Gonzalez measured 92 plasma proteins in 54 patients with refractory or relapsed hodgkins lymphoma\n",
    "# Gao measured 92 plasma proteins in 91 patients with esophageal cancer before and after ICI treatment\n",
    "# Alvez measured 1463 proteins in 1477 patients from twelve cancer types, including acute myeloid leukemia (AML) (n = 50), \n",
    "# chronic lymphocytic leukemia (CLL) (n = 48), diffuse large B-cell lymphoma (DLBCL) (n = 55), myeloma (n = 38), \n",
    "# colorectal cancer (n = 221), lung cancer (n = 268), glioma (n = 145), breast cancer (n = 152), cervical cancer (n = 102), \n",
    "# endometrial cancer (n = 101), ovarian cancer (n = 134), and prostate cancer (n = 163)."
   ]
  },
  {
   "cell_type": "code",
   "execution_count": 15,
   "metadata": {},
   "outputs": [],
   "source": [
    "# Separate the dfs based on olinkID and uniprot IDs\n",
    "\n",
    "Petrera_df_olinkID=Petrera_df['OlinkID']\n",
    "Petrera_df_uniprot= Petrera_df['UniprotID']\n",
    "\n",
    "Gonzalez_df_olinkID=Gonzalez_df['OlinkID']\n",
    "Gonzalez_df_uniprot = Gonzalez_df['UniprotID']\n",
    "\n",
    "Gao_df_olinkID=Gao_df['OlinkID']\n",
    "Gao_df_uniprot=Gao_df['UniprotID']\n",
    "\n",
    "Alvez_df_olinkID=Alvez_df['OlinkID']\n",
    "Alvez_df_uniprot=Alvez_df['UniProt']\n"
   ]
  },
  {
   "cell_type": "code",
   "execution_count": 16,
   "metadata": {},
   "outputs": [
    {
     "data": {
      "text/plain": [
       "49"
      ]
     },
     "execution_count": 16,
     "metadata": {},
     "output_type": "execute_result"
    }
   ],
   "source": [
    "# Find the list of uniprot IDs that are in common for the 4 papers of interest\n",
    "incommon=list(set(Alvez_df_uniprot) & set(Petrera_df_uniprot) & set(Gao_df_uniprot) & set(Gonzalez_df_uniprot))\n",
    "len(incommon)"
   ]
  },
  {
   "cell_type": "code",
   "execution_count": 17,
   "metadata": {},
   "outputs": [
    {
     "name": "stdout",
     "output_type": "stream",
     "text": [
      "['Q14116', 'P49763', 'P01127', 'O95727', 'P22301', 'Q9UQV4', 'P09382', 'P10147', 'P09601', 'O00182', 'P10747', 'P18627', 'P05231', 'Q13241', 'P12544', 'Q9NP84', 'Q9BQ51', 'P50591', 'Q01151', 'P09237', 'P09038', 'Q02763', 'P14210', 'Q16790', 'P35968', 'P43489', 'P10144', 'P42701', 'Q8WXI7', 'O76036', 'P01133', 'P39900', 'P48023', 'P01730', 'P09341', 'Q15389', 'P05113', 'P26842', 'P32970', 'O75144', 'P48061', 'Q92583', 'P07585', 'O75509', 'P20718', 'O43927', 'P29965', 'P13500', 'P15692']\n"
     ]
    }
   ],
   "source": [
    "print(incommon) # prints the uniprot IDs that are in common between the different datasets"
   ]
  }
 ],
 "metadata": {
  "kernelspec": {
   "display_name": "erdos_fall_2024",
   "language": "python",
   "name": "python3"
  },
  "language_info": {
   "codemirror_mode": {
    "name": "ipython",
    "version": 3
   },
   "file_extension": ".py",
   "mimetype": "text/x-python",
   "name": "python",
   "nbconvert_exporter": "python",
   "pygments_lexer": "ipython3",
   "version": "3.12.5"
  }
 },
 "nbformat": 4,
 "nbformat_minor": 2
}
